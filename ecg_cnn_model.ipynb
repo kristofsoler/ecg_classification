{
  "cells": [
    {
      "cell_type": "code",
      "execution_count": 16,
      "metadata": {
        "id": "GhAWkw032ihu"
      },
      "outputs": [],
      "source": [
        "import numpy as np\n",
        "import pandas as pd\n",
        "import matplotlib.pyplot as plt\n",
        "import seaborn as sns\n",
        "import sklearn as skl"
      ]
    },
    {
      "cell_type": "code",
      "execution_count": 17,
      "metadata": {
        "id": "Mlh4BPO-AHqR"
      },
      "outputs": [],
      "source": [
        "y = pd.read_csv('/Users/kris/Library/CloudStorage/OneDrive-Personal/Data science/applications of data science/assessment 3/ECG Data/y_labels.csv')\n",
        "x = np.load('/Users/kris/Library/CloudStorage/OneDrive-Personal/Data science/applications of data science/assessment 3/ECG Data/x_data.npy')"
      ]
    },
    {
      "cell_type": "code",
      "execution_count": 18,
      "metadata": {
        "id": "TYQddreLBInn"
      },
      "outputs": [],
      "source": [
        "from sklearn.model_selection import train_test_split\n",
        "\n",
        "x_train, x_test, y_train, y_test= train_test_split(x, y, test_size = 0.25)"
      ]
    },
    {
      "cell_type": "code",
      "execution_count": 19,
      "metadata": {
        "colab": {
          "base_uri": "https://localhost:8080/"
        },
        "id": "AMMXgrssB0A2",
        "outputId": "afb27f11-de22-480c-eb7c-2d184649d133"
      },
      "outputs": [
        {
          "name": "stdout",
          "output_type": "stream",
          "text": [
            "Training dataset: X_train= (2380, 2000, 3) , y_train (2380, 1)\n",
            "Testing dataset: X_test= (794, 2000, 3) , y_test (794, 1)\n"
          ]
        }
      ],
      "source": [
        "# print the shape of the training and holdout data\n",
        "print('Training dataset: X_train=', x_train.shape, ', y_train', y_train.shape)\n",
        "print('Testing dataset: X_test=', x_test.shape, ', y_test', y_test.shape)"
      ]
    },
    {
      "cell_type": "code",
      "execution_count": 20,
      "metadata": {
        "id": "_DdAb7a-CEDw"
      },
      "outputs": [],
      "source": [
        "# further split the training into validation and training sets\n",
        "\n",
        "x_train, x_val, y_train, y_val= train_test_split(x_train, y_train, test_size = 0.50)"
      ]
    },
    {
      "cell_type": "code",
      "execution_count": 21,
      "metadata": {
        "id": "rR3V81CZxnxG"
      },
      "outputs": [],
      "source": [
        "x_tr_k = x_train.reshape((-1, 1,2000,3))\n",
        "x_val_k = x_val.reshape((-1, 1,2000,3))"
      ]
    },
    {
      "cell_type": "code",
      "execution_count": 22,
      "metadata": {
        "id": "qmhyZLbnX7O6"
      },
      "outputs": [],
      "source": [
        "from tensorflow import keras\n",
        "from keras.utils import to_categorical\n",
        "\n",
        "# Assuming y_train and y_val are single-label categorical labels (not one-hot encoded)\n",
        "y_train = to_categorical(y_train, num_classes=2)\n",
        "y_val = to_categorical(y_val, num_classes=2)\n",
        "y_test = to_categorical(y_test, num_classes=2)"
      ]
    },
    {
      "cell_type": "code",
      "execution_count": 23,
      "metadata": {
        "colab": {
          "base_uri": "https://localhost:8080/"
        },
        "id": "QI043KdOt4Ep",
        "outputId": "130b98cc-66a4-430a-de23-31c858ea4053"
      },
      "outputs": [
        {
          "data": {
            "text/plain": [
              "(1190, 2)"
            ]
          },
          "execution_count": 23,
          "metadata": {},
          "output_type": "execute_result"
        }
      ],
      "source": [
        "y_train.shape"
      ]
    },
    {
      "cell_type": "code",
      "execution_count": 24,
      "metadata": {
        "colab": {
          "base_uri": "https://localhost:8080/"
        },
        "id": "tBGTT1IzUVSr",
        "outputId": "8ca52f3b-d959-4f48-c8aa-c3042276faca"
      },
      "outputs": [
        {
          "data": {
            "text/plain": [
              "(1190, 1, 2000, 3)"
            ]
          },
          "execution_count": 24,
          "metadata": {},
          "output_type": "execute_result"
        }
      ],
      "source": [
        "x_tr_k.shape\n"
      ]
    },
    {
      "cell_type": "code",
      "execution_count": 26,
      "metadata": {
        "id": "CFYWYWI5u8HX"
      },
      "outputs": [],
      "source": [
        "# make a function to display metrics of chosen models and specify names of the models.\n",
        "\n",
        "def display_metrics(models, model_names):\n",
        "    for i, model in enumerate(models, start=1):\n",
        "        max_train_accuracy = max(model.history['accuracy'])\n",
        "        min_train_loss = min(model.history['loss'])\n",
        "        max_val_accuracy = max(model.history['val_accuracy'])\n",
        "        min_val_loss = min(model.history['val_loss'])\n",
        "\n",
        "        print(f\"Metrics for Model {model_names[i-1]}:\")\n",
        "        print(f\"Max Training Accuracy: {max_train_accuracy:.3f}\")\n",
        "        print(f\"Min Training Loss: {min_train_loss:.3f}\")\n",
        "        print(f\"Max Validation Accuracy: {max_val_accuracy:.3f}\")\n",
        "        print(f\"Min Validation Loss: {min_val_loss:.3f}\")\n",
        "        print()"
      ]
    },
    {
      "cell_type": "code",
      "execution_count": 27,
      "metadata": {
        "id": "6iovDiuLwuPY"
      },
      "outputs": [],
      "source": [
        "# this step was to make a function to display learning curve plots for loss and accuracy,\n",
        "\n",
        "def plot_learning_curves(models, model_names):\n",
        "\n",
        "    colors = ['blue', 'red', 'green', 'orange', 'purple']  # List of colors for each model\n",
        "    plt.figure(figsize=(14, 6))\n",
        "    plt.suptitle(f'Learning Curves for the CNN using {model_names}', fontsize=16)\n",
        "\n",
        "    for i, model in enumerate(models):\n",
        "        history = model.history\n",
        "\n",
        "        loss = history['loss']\n",
        "        val_loss = history['val_loss']\n",
        "        accuracy = history['accuracy']\n",
        "        val_accuracy = history['val_accuracy']\n",
        "        epochs = range(1, len(loss) + 1)\n",
        "        color = colors[i % len(colors)]\n",
        "\n",
        "        # Plot loss\n",
        "        plt.subplot(1, 2, 1)\n",
        "        plt.plot(epochs, loss, label=f'{model_names[i]} - Training Loss')\n",
        "        plt.plot(epochs, val_loss,linestyle='dashed',color = color, label=f'{model_names[i]} - Validation Loss')\n",
        "        plt.xlabel('Epochs')\n",
        "        plt.ylabel('Loss')\n",
        "        plt.title('Training and Validation Loss')\n",
        "        plt.legend()\n",
        "        plt.grid(True)\n",
        "\n",
        "        # Plot accuracy\n",
        "        plt.subplot(1, 2, 2)\n",
        "        plt.plot(epochs, accuracy, label=f'{model_names[i]} - Training Accuracy')\n",
        "        plt.plot(epochs, val_accuracy,linestyle='dashed',color = color, label=f'{model_names[i]} - Validation Accuracy')\n",
        "        plt.xlabel('Epochs')\n",
        "        plt.ylabel('Accuracy')\n",
        "        plt.title('Training and Validation Accuracy')\n",
        "        plt.legend()\n",
        "        plt.grid(True)\n",
        "\n",
        "\n",
        "    plt.tight_layout()\n",
        "    plt.show()"
      ]
    },
    {
      "cell_type": "code",
      "execution_count": 28,
      "metadata": {
        "id": "tM70p9aww13Y"
      },
      "outputs": [],
      "source": [
        "from keras.models import Sequential\n",
        "from keras.layers import Conv2D, MaxPooling2D, Flatten, Dense, BatchNormalization, Activation\n",
        "from keras.optimizers import Nadam\n",
        "from keras.callbacks import EarlyStopping, LearningRateScheduler\n",
        "\n",
        "def build_cnn(filters, optimizer, initial_lr, decay_rate, loss_function):\n",
        "    # set the random state for consistency\n",
        "    tf.random.set_seed(123)\n",
        "    # clear the layer counting each run\n",
        "    tf.keras.backend.clear_session()\n",
        "\n",
        "    # Create the CNN model\n",
        "    model = Sequential()\n",
        "\n",
        "    # Convolutional layers\n",
        "    for i, num_filters in enumerate(filters):\n",
        "        model.add(BatchNormalization())\n",
        "        model.add(Conv2D(num_filters, kernel_size=(5), input_shape=(1, 2000, 3), padding='same'))\n",
        "        model.add(BatchNormalization())\n",
        "        model.add(Activation('relu'))\n",
        "        model.add(MaxPooling2D(pool_size=(1, 8)))\n",
        "\n",
        "    # Flatten layer\n",
        "    model.add(Flatten())\n",
        "\n",
        "    # Output layer\n",
        "    model.add(BatchNormalization())\n",
        "    model.add(Dense(2, activation='softmax'))\n",
        "\n",
        "    # Define the learning rate schedule for exponential decay\n",
        "    def learning_rate_schedule(epoch, lr):\n",
        "        return lr / decay_rate**(epoch)\n",
        "\n",
        "    # Compile the model\n",
        "    optimizer = Nadam(learning_rate=initial_lr)\n",
        "    model.compile(loss=loss_function, optimizer=optimizer, metrics=['accuracy'])\n",
        "\n",
        "    # Define callbacks\n",
        "    callbacks = [\n",
        "        EarlyStopping(monitor='val_accuracy', mode='max', patience=10, restore_best_weights=True),\n",
        "        LearningRateScheduler(lambda epoch: learning_rate_schedule(epoch, initial_lr))\n",
        "    ]\n",
        "\n",
        "    return model, callbacks"
      ]
    },
    {
      "cell_type": "code",
      "execution_count": 29,
      "metadata": {
        "colab": {
          "base_uri": "https://localhost:8080/"
        },
        "id": "VkOturh3ybEp",
        "outputId": "54785ae4-a7e3-4f74-a0e2-98bb05e7629d"
      },
      "outputs": [
        {
          "name": "stdout",
          "output_type": "stream",
          "text": [
            "Epoch 1/20\n",
            "30/30 [==============================] - 7s 144ms/step - loss: 2.2080 - accuracy: 0.7277 - val_loss: 1.5793 - val_accuracy: 0.6487 - lr: 0.1000\n",
            "Epoch 2/20\n",
            "30/30 [==============================] - 5s 153ms/step - loss: 0.2411 - accuracy: 0.9134 - val_loss: 0.5526 - val_accuracy: 0.7563 - lr: 0.0333\n",
            "Epoch 3/20\n",
            "30/30 [==============================] - 5s 159ms/step - loss: 0.1343 - accuracy: 0.9504 - val_loss: 0.3350 - val_accuracy: 0.8597 - lr: 0.0111\n",
            "Epoch 4/20\n",
            "30/30 [==============================] - 5s 164ms/step - loss: 0.1139 - accuracy: 0.9630 - val_loss: 0.4156 - val_accuracy: 0.7933 - lr: 0.0037\n",
            "Epoch 5/20\n",
            "30/30 [==============================] - 5s 167ms/step - loss: 0.0959 - accuracy: 0.9723 - val_loss: 0.5263 - val_accuracy: 0.7387 - lr: 0.0012\n",
            "Epoch 6/20\n",
            "30/30 [==============================] - 5s 157ms/step - loss: 0.1073 - accuracy: 0.9664 - val_loss: 0.5782 - val_accuracy: 0.7294 - lr: 4.1152e-04\n",
            "Epoch 7/20\n",
            "30/30 [==============================] - 5s 160ms/step - loss: 0.1005 - accuracy: 0.9639 - val_loss: 0.5656 - val_accuracy: 0.7370 - lr: 1.3717e-04\n",
            "Epoch 8/20\n",
            "30/30 [==============================] - 5s 157ms/step - loss: 0.1024 - accuracy: 0.9706 - val_loss: 0.5069 - val_accuracy: 0.7697 - lr: 4.5725e-05\n",
            "Epoch 9/20\n",
            "30/30 [==============================] - 5s 162ms/step - loss: 0.0933 - accuracy: 0.9689 - val_loss: 0.4343 - val_accuracy: 0.8067 - lr: 1.5242e-05\n",
            "Epoch 10/20\n",
            "30/30 [==============================] - 5s 159ms/step - loss: 0.0941 - accuracy: 0.9681 - val_loss: 0.3640 - val_accuracy: 0.8445 - lr: 5.0805e-06\n",
            "Epoch 11/20\n",
            "30/30 [==============================] - 5s 163ms/step - loss: 0.0983 - accuracy: 0.9672 - val_loss: 0.3077 - val_accuracy: 0.8723 - lr: 1.6935e-06\n",
            "Epoch 12/20\n",
            "30/30 [==============================] - 5s 164ms/step - loss: 0.1036 - accuracy: 0.9639 - val_loss: 0.2640 - val_accuracy: 0.8958 - lr: 5.6450e-07\n",
            "Epoch 13/20\n",
            "30/30 [==============================] - 5s 165ms/step - loss: 0.1015 - accuracy: 0.9681 - val_loss: 0.2326 - val_accuracy: 0.9126 - lr: 1.8817e-07\n",
            "Epoch 14/20\n",
            "30/30 [==============================] - 5s 163ms/step - loss: 0.1116 - accuracy: 0.9622 - val_loss: 0.2133 - val_accuracy: 0.9176 - lr: 6.2723e-08\n",
            "Epoch 15/20\n",
            "30/30 [==============================] - 5s 170ms/step - loss: 0.0986 - accuracy: 0.9655 - val_loss: 0.2004 - val_accuracy: 0.9252 - lr: 2.0908e-08\n",
            "Epoch 16/20\n",
            "30/30 [==============================] - 5s 165ms/step - loss: 0.1001 - accuracy: 0.9689 - val_loss: 0.1914 - val_accuracy: 0.9294 - lr: 6.9692e-09\n",
            "Epoch 17/20\n",
            "30/30 [==============================] - 5s 181ms/step - loss: 0.1055 - accuracy: 0.9639 - val_loss: 0.1856 - val_accuracy: 0.9328 - lr: 2.3231e-09\n",
            "Epoch 18/20\n",
            "30/30 [==============================] - 5s 165ms/step - loss: 0.1012 - accuracy: 0.9664 - val_loss: 0.1816 - val_accuracy: 0.9370 - lr: 7.7435e-10\n",
            "Epoch 19/20\n",
            "30/30 [==============================] - 5s 166ms/step - loss: 0.0980 - accuracy: 0.9706 - val_loss: 0.1792 - val_accuracy: 0.9370 - lr: 2.5812e-10\n",
            "Epoch 20/20\n",
            "30/30 [==============================] - 5s 163ms/step - loss: 0.0977 - accuracy: 0.9664 - val_loss: 0.1779 - val_accuracy: 0.9361 - lr: 8.6039e-11\n"
          ]
        }
      ],
      "source": [
        "import tensorflow as tf\n",
        "\n",
        "# normal input for the build cnn function\n",
        "filters = [32, 64, 128]  # Number of filters in each convolutional layer\n",
        "optimizer = Nadam  # Optimizer\n",
        "initial_lr = 0.10  # Initial learning rate\n",
        "loss_function = 'categorical_crossentropy'  # Loss function\n",
        "\n",
        "# list of decay rates too try\n",
        "decay_rates = [3]\n",
        "models = []\n",
        "max_train_accuracies = []\n",
        "max_val_accuracies = []\n",
        "decay_used = []\n",
        "\n",
        "for rate in decay_rates:\n",
        "    # Create the model with current hyperparameters\n",
        "    model, callbacks = build_cnn(filters, optimizer, initial_lr, decay_rate=rate, loss_function = loss_function)\n",
        "   # fit the model with the training data and validate with the val data\n",
        "    model_lr = model.fit(x_tr_k, y_train, validation_data=(x_val_k, y_val), batch_size=40,\n",
        "                         epochs=20, callbacks=callbacks, verbose = 1)\n",
        "    models.append(model_lr)\n",
        "\n",
        "    # Compile accuracies for plotting with learning rate\n",
        "    max_train_accuracy = max(model_lr.history['accuracy'])\n",
        "    max_val_accuracy = max(model_lr.history['val_accuracy'])\n",
        "    max_train_accuracies.append(max_train_accuracy)\n",
        "    max_val_accuracies.append(max_val_accuracy)\n",
        "    decay_used.append(str(rate))"
      ]
    },
    {
      "cell_type": "code",
      "execution_count": 30,
      "metadata": {
        "colab": {
          "base_uri": "https://localhost:8080/",
          "height": 497
        },
        "id": "2pJOVJ9Xcf_3",
        "outputId": "5a20d7c2-093b-49c5-80c5-d051acfc3de8"
      },
      "outputs": [
        {
          "data": {
            "image/png": "[encoded data removed]",
            "text/plain": [
              "<Figure size 1008x432 with 2 Axes>"
            ]
          },
          "metadata": {
            "needs_background": "light"
          },
          "output_type": "display_data"
        },
        {
          "name": "stdout",
          "output_type": "stream",
          "text": [
            "Metrics for Model  cnn:\n",
            "Max Training Accuracy: 0.972\n",
            "Min Training Loss: 0.093\n",
            "Max Validation Accuracy: 0.937\n",
            "Min Validation Loss: 0.178\n",
            "\n"
          ]
        }
      ],
      "source": [
        "models= [model_lr]\n",
        "model_names= [' cnn']\n",
        "plot_learning_curves(models, model_names)\n",
        "display_metrics(models,model_names)"
      ]
    },
    {
      "cell_type": "code",
      "execution_count": 31,
      "metadata": {
        "colab": {
          "base_uri": "https://localhost:8080/"
        },
        "id": "fqe_PQdlp2FJ",
        "outputId": "51bae645-6319-4b2e-d87c-08259fc31c2d"
      },
      "outputs": [
        {
          "name": "stdout",
          "output_type": "stream",
          "text": [
            "25/25 [==============================] - 1s 26ms/step\n"
          ]
        }
      ],
      "source": [
        "# prepare the  X test data\n",
        "\n",
        "x_test_k = x_test.reshape((-1, 1,2000,3))\n",
        "\n",
        "## fit on the untouched test data from the start.\n",
        "\n",
        "Y_pred = model.predict(x_test_k)"
      ]
    },
    {
      "cell_type": "code",
      "execution_count": 32,
      "metadata": {
        "colab": {
          "base_uri": "https://localhost:8080/"
        },
        "id": "6X4wK1dOp33c",
        "outputId": "81e1105d-2b00-4a00-e583-abd2a4e3844d"
      },
      "outputs": [
        {
          "name": "stdout",
          "output_type": "stream",
          "text": [
            "25/25 [==============================] - 1s 28ms/step - loss: 0.2048 - accuracy: 0.9282\n",
            "Test Loss: 0.2048274576663971\n",
            "Test Accuracy: 0.9282115697860718\n"
          ]
        }
      ],
      "source": [
        "# evaluate the model metrics\n",
        "\n",
        "test_loss, test_accuracy = model.evaluate(x_test_k, y_test)\n",
        "print('Test Loss:', test_loss)\n",
        "print('Test Accuracy:',test_accuracy)"
      ]
    },
    {
      "cell_type": "code",
      "execution_count": 33,
      "metadata": {},
      "outputs": [],
      "source": [
        "model.save('my_cnn_model.h5')"
      ]
    },
    {
      "cell_type": "code",
      "execution_count": 35,
      "metadata": {},
      "outputs": [
        {
          "data": {
            "image/png": "[encoded data removed]",
            "text/plain": [
              "<Figure size 720x576 with 2 Axes>"
            ]
          },
          "metadata": {
            "needs_background": "light"
          },
          "output_type": "display_data"
        }
      ],
      "source": [
        "import numpy as np\n",
        "import matplotlib.pyplot as plt\n",
        "import seaborn as sns\n",
        "from sklearn.metrics import confusion_matrix\n",
        "\n",
        "# Define the unique classes based on your class labels\n",
        "unique_classes = np.unique(y_train)\n",
        "\n",
        "# Define class names for visualization\n",
        "class_names = ['Sinus', 'Atrial Fibrillation ']\n",
        "\n",
        "# Assuming Y_pred contains predictions from your model\n",
        "# Assuming y_test contains true labels\n",
        "y_pred_labels = np.argmax(Y_pred, axis=1)\n",
        "y_test_labels = np.argmax(y_test, axis=1)\n",
        "\n",
        "# Compute the confusion matrix\n",
        "cm = confusion_matrix(y_test_labels, y_pred_labels)\n",
        "\n",
        "# Plot the confusion matrix using seaborn heatmap\n",
        "plt.figure(figsize=(10, 8))\n",
        "sns.heatmap(cm, annot=True, fmt='d', cmap='viridis',\n",
        "            xticklabels=class_names, yticklabels=class_names)\n",
        "plt.xlabel('Predicted labels')\n",
        "plt.ylabel('True labels')\n",
        "plt.title('Confusion Matrix')\n",
        "plt.show()"
      ]
    },
    {
      "cell_type": "code",
      "execution_count": 47,
      "metadata": {},
      "outputs": [],
      "source": [
        "model = tf.keras.models.load_model('/Users/kris/Library/CloudStorage/OneDrive-Personal/Data science/applications of data science/assessment 3/ECG Data/my_cnn_model.h5')"
      ]
    },
    {
      "cell_type": "code",
      "execution_count": 60,
      "metadata": {},
      "outputs": [],
      "source": [
        "import innvestigate\n",
        "from tensorflow.keras.models import Model\n",
        "\n",
        "# Remove the softmax layer from your model\n",
        "model_without_softmax = Model(inputs=model.inputs, outputs=model.layers[-2].output)\n",
        "\n",
        "# Create Analyzers\n",
        "analyzer = innvestigate.create_analyzer(\"gradient\", model_without_softmax)"
      ]
    },
    {
      "cell_type": "code",
      "execution_count": 64,
      "metadata": {},
      "outputs": [
        {
          "data": {
            "text/plain": [
              "<keras.engine.functional.Functional at 0x7fe94c74e490>"
            ]
          },
          "execution_count": 64,
          "metadata": {},
          "output_type": "execute_result"
        }
      ],
      "source": [
        "model_without_softmax"
      ]
    },
    {
      "cell_type": "code",
      "execution_count": 61,
      "metadata": {},
      "outputs": [
        {
          "ename": "RecursionError",
          "evalue": "maximum recursion depth exceeded while calling a Python object",
          "output_type": "error",
          "traceback": [
            "\u001b[0;31m---------------------------------------------------------------------------\u001b[0m",
            "\u001b[0;31mRecursionError\u001b[0m                            Traceback (most recent call last)",
            "\u001b[0;32m<ipython-input-61-7df89205073a>\u001b[0m in \u001b[0;36m<module>\u001b[0;34m\u001b[0m\n\u001b[0;32m----> 1\u001b[0;31m \u001b[0mrelevance_scores\u001b[0m \u001b[0;34m=\u001b[0m \u001b[0manalyzer\u001b[0m\u001b[0;34m.\u001b[0m\u001b[0manalyze\u001b[0m\u001b[0;34m(\u001b[0m\u001b[0mx_val_k\u001b[0m\u001b[0;34m)\u001b[0m\u001b[0;34m\u001b[0m\u001b[0;34m\u001b[0m\u001b[0m\n\u001b[0m",
            "\u001b[0;32m/opt/anaconda3/lib/python3.8/site-packages/innvestigate/analyzer/network_base.py\u001b[0m in \u001b[0;36manalyze\u001b[0;34m(self, X, neuron_selection)\u001b[0m\n\u001b[1;32m    248\u001b[0m \u001b[0;34m\u001b[0m\u001b[0m\n\u001b[1;32m    249\u001b[0m         \u001b[0;32mif\u001b[0m \u001b[0mself\u001b[0m\u001b[0;34m.\u001b[0m\u001b[0m_analyzer_model_done\u001b[0m \u001b[0;32mis\u001b[0m \u001b[0;32mFalse\u001b[0m\u001b[0;34m:\u001b[0m\u001b[0;34m\u001b[0m\u001b[0;34m\u001b[0m\u001b[0m\n\u001b[0;32m--> 250\u001b[0;31m             \u001b[0mself\u001b[0m\u001b[0;34m.\u001b[0m\u001b[0mcreate_analyzer_model\u001b[0m\u001b[0;34m(\u001b[0m\u001b[0;34m)\u001b[0m\u001b[0;34m\u001b[0m\u001b[0;34m\u001b[0m\u001b[0m\n\u001b[0m\u001b[1;32m    251\u001b[0m \u001b[0;34m\u001b[0m\u001b[0m\n\u001b[1;32m    252\u001b[0m         \u001b[0;32mif\u001b[0m \u001b[0mneuron_selection\u001b[0m \u001b[0;32mis\u001b[0m \u001b[0;32mnot\u001b[0m \u001b[0;32mNone\u001b[0m \u001b[0;32mand\u001b[0m \u001b[0mself\u001b[0m\u001b[0;34m.\u001b[0m\u001b[0m_neuron_selection_mode\u001b[0m \u001b[0;34m!=\u001b[0m \u001b[0;34m\"index\"\u001b[0m\u001b[0;34m:\u001b[0m\u001b[0;34m\u001b[0m\u001b[0;34m\u001b[0m\u001b[0m\n",
            "\u001b[0;32m/opt/anaconda3/lib/python3.8/site-packages/innvestigate/analyzer/network_base.py\u001b[0m in \u001b[0;36mcreate_analyzer_model\u001b[0;34m(self)\u001b[0m\n\u001b[1;32m    156\u001b[0m         \"\"\"\n\u001b[1;32m    157\u001b[0m         \u001b[0mmodel_inputs\u001b[0m\u001b[0;34m:\u001b[0m \u001b[0mlist\u001b[0m\u001b[0;34m[\u001b[0m\u001b[0mTensor\u001b[0m\u001b[0;34m]\u001b[0m \u001b[0;34m=\u001b[0m \u001b[0mself\u001b[0m\u001b[0;34m.\u001b[0m\u001b[0m_model\u001b[0m\u001b[0;34m.\u001b[0m\u001b[0minputs\u001b[0m\u001b[0;34m\u001b[0m\u001b[0;34m\u001b[0m\u001b[0m\n\u001b[0;32m--> 158\u001b[0;31m         model, analysis_inputs, stop_analysis_at_tensors = self._prepare_model(\n\u001b[0m\u001b[1;32m    159\u001b[0m             \u001b[0mself\u001b[0m\u001b[0;34m.\u001b[0m\u001b[0m_model\u001b[0m\u001b[0;34m\u001b[0m\u001b[0;34m\u001b[0m\u001b[0m\n\u001b[1;32m    160\u001b[0m         )\n",
            "\u001b[0;32m/opt/anaconda3/lib/python3.8/site-packages/innvestigate/analyzer/network_base.py\u001b[0m in \u001b[0;36m_prepare_model\u001b[0;34m(self, model)\u001b[0m\n\u001b[1;32m    121\u001b[0m         \u001b[0;32mif\u001b[0m \u001b[0mneuron_selection_mode\u001b[0m \u001b[0;34m==\u001b[0m \u001b[0;34m\"max_activation\"\u001b[0m\u001b[0;34m:\u001b[0m\u001b[0;34m\u001b[0m\u001b[0;34m\u001b[0m\u001b[0m\n\u001b[1;32m    122\u001b[0m             \u001b[0minn_max\u001b[0m \u001b[0;34m=\u001b[0m \u001b[0milayers\u001b[0m\u001b[0;34m.\u001b[0m\u001b[0mMaxNeuronSelection\u001b[0m\u001b[0;34m(\u001b[0m\u001b[0mname\u001b[0m\u001b[0;34m=\u001b[0m\u001b[0;34m\"MaxNeuronSelection\"\u001b[0m\u001b[0;34m)\u001b[0m\u001b[0;34m\u001b[0m\u001b[0;34m\u001b[0m\u001b[0m\n\u001b[0;32m--> 123\u001b[0;31m             \u001b[0mmodel_output\u001b[0m \u001b[0;34m=\u001b[0m \u001b[0minn_max\u001b[0m\u001b[0;34m(\u001b[0m\u001b[0mmodel_output\u001b[0m\u001b[0;34m)\u001b[0m\u001b[0;34m\u001b[0m\u001b[0;34m\u001b[0m\u001b[0m\n\u001b[0m\u001b[1;32m    124\u001b[0m             \u001b[0mself\u001b[0m\u001b[0;34m.\u001b[0m\u001b[0m_special_helper_layers\u001b[0m\u001b[0;34m.\u001b[0m\u001b[0mappend\u001b[0m\u001b[0;34m(\u001b[0m\u001b[0minn_max\u001b[0m\u001b[0;34m)\u001b[0m\u001b[0;34m\u001b[0m\u001b[0;34m\u001b[0m\u001b[0m\n\u001b[1;32m    125\u001b[0m \u001b[0;34m\u001b[0m\u001b[0m\n",
            "\u001b[0;32m/opt/anaconda3/lib/python3.8/site-packages/keras/engine/base_layer_v1.py\u001b[0m in \u001b[0;36m__call__\u001b[0;34m(self, *args, **kwargs)\u001b[0m\n\u001b[1;32m    896\u001b[0m                         \u001b[0mself\u001b[0m\u001b[0;34m.\u001b[0m\u001b[0m_compute_dtype_object\u001b[0m\u001b[0;34m\u001b[0m\u001b[0;34m\u001b[0m\u001b[0m\n\u001b[1;32m    897\u001b[0m                     ):\n\u001b[0;32m--> 898\u001b[0;31m                         \u001b[0moutputs\u001b[0m \u001b[0;34m=\u001b[0m \u001b[0mself\u001b[0m\u001b[0;34m.\u001b[0m\u001b[0mcall\u001b[0m\u001b[0;34m(\u001b[0m\u001b[0mcast_inputs\u001b[0m\u001b[0;34m,\u001b[0m \u001b[0;34m*\u001b[0m\u001b[0margs\u001b[0m\u001b[0;34m,\u001b[0m \u001b[0;34m**\u001b[0m\u001b[0mkwargs\u001b[0m\u001b[0;34m)\u001b[0m\u001b[0;34m\u001b[0m\u001b[0;34m\u001b[0m\u001b[0m\n\u001b[0m\u001b[1;32m    899\u001b[0m                     \u001b[0mself\u001b[0m\u001b[0;34m.\u001b[0m\u001b[0m_handle_activity_regularization\u001b[0m\u001b[0;34m(\u001b[0m\u001b[0minputs\u001b[0m\u001b[0;34m,\u001b[0m \u001b[0moutputs\u001b[0m\u001b[0;34m)\u001b[0m\u001b[0;34m\u001b[0m\u001b[0;34m\u001b[0m\u001b[0m\n\u001b[1;32m    900\u001b[0m                     \u001b[0mself\u001b[0m\u001b[0;34m.\u001b[0m\u001b[0m_set_mask_metadata\u001b[0m\u001b[0;34m(\u001b[0m\u001b[0minputs\u001b[0m\u001b[0;34m,\u001b[0m \u001b[0moutputs\u001b[0m\u001b[0;34m,\u001b[0m \u001b[0minput_masks\u001b[0m\u001b[0;34m)\u001b[0m\u001b[0;34m\u001b[0m\u001b[0;34m\u001b[0m\u001b[0m\n",
            "\u001b[0;32m/opt/anaconda3/lib/python3.8/site-packages/innvestigate/layers.py\u001b[0m in \u001b[0;36mcall\u001b[0;34m(self, inputs, *_args, **_kwargs)\u001b[0m\n\u001b[1;32m    408\u001b[0m \u001b[0;34m\u001b[0m\u001b[0m\n\u001b[1;32m    409\u001b[0m     \u001b[0;32mdef\u001b[0m \u001b[0mcall\u001b[0m\u001b[0;34m(\u001b[0m\u001b[0mself\u001b[0m\u001b[0;34m,\u001b[0m \u001b[0minputs\u001b[0m\u001b[0;34m:\u001b[0m \u001b[0mTensor\u001b[0m\u001b[0;34m,\u001b[0m \u001b[0;34m*\u001b[0m\u001b[0m_args\u001b[0m\u001b[0;34m,\u001b[0m \u001b[0;34m**\u001b[0m\u001b[0m_kwargs\u001b[0m\u001b[0;34m)\u001b[0m \u001b[0;34m->\u001b[0m \u001b[0mTensor\u001b[0m\u001b[0;34m:\u001b[0m\u001b[0;34m\u001b[0m\u001b[0;34m\u001b[0m\u001b[0m\n\u001b[0;32m--> 410\u001b[0;31m         return tf.math.reduce_max(\n\u001b[0m\u001b[1;32m    411\u001b[0m             \u001b[0minputs\u001b[0m\u001b[0;34m,\u001b[0m \u001b[0maxis\u001b[0m\u001b[0;34m=\u001b[0m\u001b[0;34m-\u001b[0m\u001b[0;36m1\u001b[0m\u001b[0;34m,\u001b[0m \u001b[0mkeepdims\u001b[0m\u001b[0;34m=\u001b[0m\u001b[0;32mFalse\u001b[0m\u001b[0;34m\u001b[0m\u001b[0;34m\u001b[0m\u001b[0m\n\u001b[1;32m    412\u001b[0m         )  # max along batch axis\n",
            "\u001b[0;32m/opt/anaconda3/lib/python3.8/site-packages/tensorflow/python/util/traceback_utils.py\u001b[0m in \u001b[0;36merror_handler\u001b[0;34m(*args, **kwargs)\u001b[0m\n\u001b[1;32m    151\u001b[0m     \u001b[0;32mexcept\u001b[0m \u001b[0mException\u001b[0m \u001b[0;32mas\u001b[0m \u001b[0me\u001b[0m\u001b[0;34m:\u001b[0m\u001b[0;34m\u001b[0m\u001b[0;34m\u001b[0m\u001b[0m\n\u001b[1;32m    152\u001b[0m       \u001b[0mfiltered_tb\u001b[0m \u001b[0;34m=\u001b[0m \u001b[0m_process_traceback_frames\u001b[0m\u001b[0;34m(\u001b[0m\u001b[0me\u001b[0m\u001b[0;34m.\u001b[0m\u001b[0m__traceback__\u001b[0m\u001b[0;34m)\u001b[0m\u001b[0;34m\u001b[0m\u001b[0;34m\u001b[0m\u001b[0m\n\u001b[0;32m--> 153\u001b[0;31m       \u001b[0;32mraise\u001b[0m \u001b[0me\u001b[0m\u001b[0;34m.\u001b[0m\u001b[0mwith_traceback\u001b[0m\u001b[0;34m(\u001b[0m\u001b[0mfiltered_tb\u001b[0m\u001b[0;34m)\u001b[0m \u001b[0;32mfrom\u001b[0m \u001b[0;32mNone\u001b[0m\u001b[0;34m\u001b[0m\u001b[0;34m\u001b[0m\u001b[0m\n\u001b[0m\u001b[1;32m    154\u001b[0m     \u001b[0;32mfinally\u001b[0m\u001b[0;34m:\u001b[0m\u001b[0;34m\u001b[0m\u001b[0;34m\u001b[0m\u001b[0m\n\u001b[1;32m    155\u001b[0m       \u001b[0;32mdel\u001b[0m \u001b[0mfiltered_tb\u001b[0m\u001b[0;34m\u001b[0m\u001b[0;34m\u001b[0m\u001b[0m\n",
            "\u001b[0;32m/opt/anaconda3/lib/python3.8/site-packages/keras/layers/core/tf_op_layer.py\u001b[0m in \u001b[0;36mhandle\u001b[0;34m(self, op, args, kwargs)\u001b[0m\n\u001b[1;32m    117\u001b[0m             \u001b[0;32mfor\u001b[0m \u001b[0mx\u001b[0m \u001b[0;32min\u001b[0m \u001b[0mtf\u001b[0m\u001b[0;34m.\u001b[0m\u001b[0mnest\u001b[0m\u001b[0;34m.\u001b[0m\u001b[0mflatten\u001b[0m\u001b[0;34m(\u001b[0m\u001b[0;34m[\u001b[0m\u001b[0margs\u001b[0m\u001b[0;34m,\u001b[0m \u001b[0mkwargs\u001b[0m\u001b[0;34m]\u001b[0m\u001b[0;34m)\u001b[0m\u001b[0;34m\u001b[0m\u001b[0;34m\u001b[0m\u001b[0m\n\u001b[1;32m    118\u001b[0m         ):\n\u001b[0;32m--> 119\u001b[0;31m             \u001b[0;32mreturn\u001b[0m \u001b[0mTFOpLambda\u001b[0m\u001b[0;34m(\u001b[0m\u001b[0mop\u001b[0m\u001b[0;34m)\u001b[0m\u001b[0;34m(\u001b[0m\u001b[0;34m*\u001b[0m\u001b[0margs\u001b[0m\u001b[0;34m,\u001b[0m \u001b[0;34m**\u001b[0m\u001b[0mkwargs\u001b[0m\u001b[0;34m)\u001b[0m\u001b[0;34m\u001b[0m\u001b[0;34m\u001b[0m\u001b[0m\n\u001b[0m\u001b[1;32m    120\u001b[0m         \u001b[0;32melse\u001b[0m\u001b[0;34m:\u001b[0m\u001b[0;34m\u001b[0m\u001b[0;34m\u001b[0m\u001b[0m\n\u001b[1;32m    121\u001b[0m             \u001b[0;32mreturn\u001b[0m \u001b[0mself\u001b[0m\u001b[0;34m.\u001b[0m\u001b[0mNOT_SUPPORTED\u001b[0m\u001b[0;34m\u001b[0m\u001b[0;34m\u001b[0m\u001b[0m\n",
            "\u001b[0;32m/opt/anaconda3/lib/python3.8/site-packages/keras/engine/base_layer_v1.py\u001b[0m in \u001b[0;36m__call__\u001b[0;34m(self, *args, **kwargs)\u001b[0m\n\u001b[1;32m    896\u001b[0m                         \u001b[0mself\u001b[0m\u001b[0;34m.\u001b[0m\u001b[0m_compute_dtype_object\u001b[0m\u001b[0;34m\u001b[0m\u001b[0;34m\u001b[0m\u001b[0m\n\u001b[1;32m    897\u001b[0m                     ):\n\u001b[0;32m--> 898\u001b[0;31m                         \u001b[0moutputs\u001b[0m \u001b[0;34m=\u001b[0m \u001b[0mself\u001b[0m\u001b[0;34m.\u001b[0m\u001b[0mcall\u001b[0m\u001b[0;34m(\u001b[0m\u001b[0mcast_inputs\u001b[0m\u001b[0;34m,\u001b[0m \u001b[0;34m*\u001b[0m\u001b[0margs\u001b[0m\u001b[0;34m,\u001b[0m \u001b[0;34m**\u001b[0m\u001b[0mkwargs\u001b[0m\u001b[0;34m)\u001b[0m\u001b[0;34m\u001b[0m\u001b[0;34m\u001b[0m\u001b[0m\n\u001b[0m\u001b[1;32m    899\u001b[0m                     \u001b[0mself\u001b[0m\u001b[0;34m.\u001b[0m\u001b[0m_handle_activity_regularization\u001b[0m\u001b[0;34m(\u001b[0m\u001b[0minputs\u001b[0m\u001b[0;34m,\u001b[0m \u001b[0moutputs\u001b[0m\u001b[0;34m)\u001b[0m\u001b[0;34m\u001b[0m\u001b[0;34m\u001b[0m\u001b[0m\n\u001b[1;32m    900\u001b[0m                     \u001b[0mself\u001b[0m\u001b[0;34m.\u001b[0m\u001b[0m_set_mask_metadata\u001b[0m\u001b[0;34m(\u001b[0m\u001b[0minputs\u001b[0m\u001b[0;34m,\u001b[0m \u001b[0moutputs\u001b[0m\u001b[0;34m,\u001b[0m \u001b[0minput_masks\u001b[0m\u001b[0;34m)\u001b[0m\u001b[0;34m\u001b[0m\u001b[0;34m\u001b[0m\u001b[0m\n",
            "\u001b[0;32m/opt/anaconda3/lib/python3.8/site-packages/keras/layers/core/tf_op_layer.py\u001b[0m in \u001b[0;36m_call_wrapper\u001b[0;34m(*args, **kwargs)\u001b[0m\n\u001b[1;32m    240\u001b[0m         \u001b[0;31m# Decorate the function to produce this layer's call method\u001b[0m\u001b[0;34m\u001b[0m\u001b[0;34m\u001b[0m\u001b[0;34m\u001b[0m\u001b[0m\n\u001b[1;32m    241\u001b[0m         \u001b[0;32mdef\u001b[0m \u001b[0m_call_wrapper\u001b[0m\u001b[0;34m(\u001b[0m\u001b[0;34m*\u001b[0m\u001b[0margs\u001b[0m\u001b[0;34m,\u001b[0m \u001b[0;34m**\u001b[0m\u001b[0mkwargs\u001b[0m\u001b[0;34m)\u001b[0m\u001b[0;34m:\u001b[0m\u001b[0;34m\u001b[0m\u001b[0;34m\u001b[0m\u001b[0m\n\u001b[0;32m--> 242\u001b[0;31m             \u001b[0;32mreturn\u001b[0m \u001b[0mself\u001b[0m\u001b[0;34m.\u001b[0m\u001b[0m_call_wrapper\u001b[0m\u001b[0;34m(\u001b[0m\u001b[0;34m*\u001b[0m\u001b[0margs\u001b[0m\u001b[0;34m,\u001b[0m \u001b[0;34m**\u001b[0m\u001b[0mkwargs\u001b[0m\u001b[0;34m)\u001b[0m\u001b[0;34m\u001b[0m\u001b[0;34m\u001b[0m\u001b[0m\n\u001b[0m\u001b[1;32m    243\u001b[0m \u001b[0;34m\u001b[0m\u001b[0m\n\u001b[1;32m    244\u001b[0m         self.call = tf.__internal__.decorator.make_decorator(\n",
            "\u001b[0;32m/opt/anaconda3/lib/python3.8/site-packages/keras/layers/core/tf_op_layer.py\u001b[0m in \u001b[0;36m_call_wrapper\u001b[0;34m(self, *args, **kwargs)\u001b[0m\n\u001b[1;32m    277\u001b[0m             \u001b[0;31m# multiple ops w/ the same name when the layer is reused)\u001b[0m\u001b[0;34m\u001b[0m\u001b[0;34m\u001b[0m\u001b[0;34m\u001b[0m\u001b[0m\n\u001b[1;32m    278\u001b[0m             \u001b[0mkwargs\u001b[0m\u001b[0;34m.\u001b[0m\u001b[0mpop\u001b[0m\u001b[0;34m(\u001b[0m\u001b[0;34m\"name\"\u001b[0m\u001b[0;34m,\u001b[0m \u001b[0;32mNone\u001b[0m\u001b[0;34m)\u001b[0m\u001b[0;34m\u001b[0m\u001b[0;34m\u001b[0m\u001b[0m\n\u001b[0;32m--> 279\u001b[0;31m             \u001b[0mresult\u001b[0m \u001b[0;34m=\u001b[0m \u001b[0mself\u001b[0m\u001b[0;34m.\u001b[0m\u001b[0mfunction\u001b[0m\u001b[0;34m(\u001b[0m\u001b[0;34m*\u001b[0m\u001b[0margs\u001b[0m\u001b[0;34m,\u001b[0m \u001b[0;34m**\u001b[0m\u001b[0mkwargs\u001b[0m\u001b[0;34m)\u001b[0m\u001b[0;34m\u001b[0m\u001b[0;34m\u001b[0m\u001b[0m\n\u001b[0m\u001b[1;32m    280\u001b[0m         \u001b[0mself\u001b[0m\u001b[0;34m.\u001b[0m\u001b[0m_check_variables\u001b[0m\u001b[0;34m(\u001b[0m\u001b[0mcreated_variables\u001b[0m\u001b[0;34m,\u001b[0m \u001b[0mtape\u001b[0m\u001b[0;34m.\u001b[0m\u001b[0mwatched_variables\u001b[0m\u001b[0;34m(\u001b[0m\u001b[0;34m)\u001b[0m\u001b[0;34m)\u001b[0m\u001b[0;34m\u001b[0m\u001b[0;34m\u001b[0m\u001b[0m\n\u001b[1;32m    281\u001b[0m         \u001b[0;32mreturn\u001b[0m \u001b[0mresult\u001b[0m\u001b[0;34m\u001b[0m\u001b[0;34m\u001b[0m\u001b[0m\n",
            "... last 4 frames repeated, from the frame below ...\n",
            "\u001b[0;32m/opt/anaconda3/lib/python3.8/site-packages/keras/layers/core/tf_op_layer.py\u001b[0m in \u001b[0;36mhandle\u001b[0;34m(self, op, args, kwargs)\u001b[0m\n\u001b[1;32m    117\u001b[0m             \u001b[0;32mfor\u001b[0m \u001b[0mx\u001b[0m \u001b[0;32min\u001b[0m \u001b[0mtf\u001b[0m\u001b[0;34m.\u001b[0m\u001b[0mnest\u001b[0m\u001b[0;34m.\u001b[0m\u001b[0mflatten\u001b[0m\u001b[0;34m(\u001b[0m\u001b[0;34m[\u001b[0m\u001b[0margs\u001b[0m\u001b[0;34m,\u001b[0m \u001b[0mkwargs\u001b[0m\u001b[0;34m]\u001b[0m\u001b[0;34m)\u001b[0m\u001b[0;34m\u001b[0m\u001b[0;34m\u001b[0m\u001b[0m\n\u001b[1;32m    118\u001b[0m         ):\n\u001b[0;32m--> 119\u001b[0;31m             \u001b[0;32mreturn\u001b[0m \u001b[0mTFOpLambda\u001b[0m\u001b[0;34m(\u001b[0m\u001b[0mop\u001b[0m\u001b[0;34m)\u001b[0m\u001b[0;34m(\u001b[0m\u001b[0;34m*\u001b[0m\u001b[0margs\u001b[0m\u001b[0;34m,\u001b[0m \u001b[0;34m**\u001b[0m\u001b[0mkwargs\u001b[0m\u001b[0;34m)\u001b[0m\u001b[0;34m\u001b[0m\u001b[0;34m\u001b[0m\u001b[0m\n\u001b[0m\u001b[1;32m    120\u001b[0m         \u001b[0;32melse\u001b[0m\u001b[0;34m:\u001b[0m\u001b[0;34m\u001b[0m\u001b[0;34m\u001b[0m\u001b[0m\n\u001b[1;32m    121\u001b[0m             \u001b[0;32mreturn\u001b[0m \u001b[0mself\u001b[0m\u001b[0;34m.\u001b[0m\u001b[0mNOT_SUPPORTED\u001b[0m\u001b[0;34m\u001b[0m\u001b[0;34m\u001b[0m\u001b[0m\n",
            "\u001b[0;31mRecursionError\u001b[0m: maximum recursion depth exceeded while calling a Python object"
          ]
        }
      ],
      "source": [
        "relevance_scores = analyzer.analyze(x_val_k)"
      ]
    }
  ],
  "metadata": {
    "accelerator": "GPU",
    "colab": {
      "provenance": []
    },
    "kernelspec": {
      "display_name": "Python 3",
      "name": "python3"
    },
    "language_info": {
      "codemirror_mode": {
        "name": "ipython",
        "version": 3
      },
      "file_extension": ".py",
      "mimetype": "text/x-python",
      "name": "python",
      "nbconvert_exporter": "python",
      "pygments_lexer": "ipython3",
      "version": "3.8.5"
    }
  },
  "nbformat": 4,
  "nbformat_minor": 0
}
