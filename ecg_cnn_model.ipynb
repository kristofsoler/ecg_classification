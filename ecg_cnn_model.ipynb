{
 "cells": [
  {
   "cell_type": "code",
   "execution_count": 1,
   "metadata": {
    "id": "GhAWkw032ihu"
   },
   "outputs": [
    {
     "name": "stderr",
     "output_type": "stream",
     "text": [
      "/opt/anaconda3/lib/python3.8/site-packages/pandas/core/computation/expressions.py:20: UserWarning: Pandas requires version '2.7.3' or newer of 'numexpr' (version '2.7.1' currently installed).\n",
      "  from pandas.core.computation.check import NUMEXPR_INSTALLED\n"
     ]
    }
   ],
   "source": [
    "import numpy as np\n",
    "import pandas as pd\n",
    "import matplotlib.pyplot as plt\n",
    "import seaborn as sns\n",
    "import sklearn as skl"
   ]
  },
  {
   "cell_type": "code",
   "execution_count": 2,
   "metadata": {
    "id": "Mlh4BPO-AHqR"
   },
   "outputs": [],
   "source": [
    "y = pd.read_csv('/Users/kris/Library/CloudStorage/OneDrive-Personal/Data science/applications of data science/assessment 3/ECG Data/y_labels.csv')\n",
    "x = np.load('/Users/kris/Library/CloudStorage/OneDrive-Personal/Data science/applications of data science/assessment 3/ECG Data/x_data.npy')"
   ]
  },
  {
   "cell_type": "code",
   "execution_count": 3,
   "metadata": {
    "id": "TYQddreLBInn"
   },
   "outputs": [],
   "source": [
    "from sklearn.model_selection import train_test_split\n",
    "\n",
    "x_train, x_test, y_train, y_test= train_test_split(x, y, test_size = 0.25)"
   ]
  },
  {
   "cell_type": "code",
   "execution_count": 4,
   "metadata": {
    "colab": {
     "base_uri": "https://localhost:8080/"
    },
    "id": "AMMXgrssB0A2",
    "outputId": "afb27f11-de22-480c-eb7c-2d184649d133"
   },
   "outputs": [
    {
     "name": "stdout",
     "output_type": "stream",
     "text": [
      "Training dataset: X_train= (2380, 2000, 3) , y_train (2380, 1)\n",
      "Testing dataset: X_test= (794, 2000, 3) , y_test (794, 1)\n"
     ]
    }
   ],
   "source": [
    "# print the shape of the training and holdout data\n",
    "print('Training dataset: X_train=', x_train.shape, ', y_train', y_train.shape)\n",
    "print('Testing dataset: X_test=', x_test.shape, ', y_test', y_test.shape)"
   ]
  },
  {
   "cell_type": "code",
   "execution_count": 5,
   "metadata": {
    "id": "_DdAb7a-CEDw"
   },
   "outputs": [],
   "source": [
    "# further split the training into validation and training sets\n",
    "\n",
    "x_train, x_val, y_train, y_val= train_test_split(x_train, y_train, test_size = 0.50)"
   ]
  },
  {
   "cell_type": "code",
   "execution_count": 6,
   "metadata": {
    "id": "rR3V81CZxnxG"
   },
   "outputs": [],
   "source": [
    "x_tr_k = x_train.reshape((-1, 1,2000,3))\n",
    "x_val_k = x_val.reshape((-1, 1,2000,3))"
   ]
  },
  {
   "cell_type": "code",
   "execution_count": 7,
   "metadata": {
    "id": "qmhyZLbnX7O6"
   },
   "outputs": [],
   "source": [
    "from tensorflow import keras\n",
    "from keras.utils import to_categorical\n",
    "\n",
    "# Assuming y_train and y_val are single-label categorical labels (not one-hot encoded)\n",
    "y_train = to_categorical(y_train, num_classes=2)\n",
    "y_val = to_categorical(y_val, num_classes=2)\n",
    "y_test = to_categorical(y_test, num_classes=2)"
   ]
  },
  {
   "cell_type": "code",
   "execution_count": null,
   "metadata": {
    "colab": {
     "base_uri": "https://localhost:8080/"
    },
    "id": "QI043KdOt4Ep",
    "outputId": "130b98cc-66a4-430a-de23-31c858ea4053"
   },
   "outputs": [
    {
     "data": {
      "text/plain": [
       "(1190, 2)"
      ]
     },
     "execution_count": 23,
     "metadata": {},
     "output_type": "execute_result"
    }
   ],
   "source": [
    "y_train.shape"
   ]
  },
  {
   "cell_type": "code",
   "execution_count": 14,
   "metadata": {
    "colab": {
     "base_uri": "https://localhost:8080/"
    },
    "id": "tBGTT1IzUVSr",
    "outputId": "8ca52f3b-d959-4f48-c8aa-c3042276faca"
   },
   "outputs": [
    {
     "data": {
      "text/plain": [
       "(1190, 1, 2000, 3)"
      ]
     },
     "execution_count": 14,
     "metadata": {},
     "output_type": "execute_result"
    }
   ],
   "source": [
    "x_tr_k.shape\n"
   ]
  },
  {
   "cell_type": "code",
   "execution_count": 8,
   "metadata": {
    "id": "CFYWYWI5u8HX"
   },
   "outputs": [],
   "source": [
    "# make a function to display metrics of chosen models and specify names of the models.\n",
    "\n",
    "def display_metrics(models, model_names):\n",
    "    for i, model in enumerate(models, start=1):\n",
    "        max_train_accuracy = max(model.history['accuracy'])\n",
    "        min_train_loss = min(model.history['loss'])\n",
    "        max_val_accuracy = max(model.history['val_accuracy'])\n",
    "        min_val_loss = min(model.history['val_loss'])\n",
    "\n",
    "        print(f\"Metrics for Model {model_names[i-1]}:\")\n",
    "        print(f\"Max Training Accuracy: {max_train_accuracy:.3f}\")\n",
    "        print(f\"Min Training Loss: {min_train_loss:.3f}\")\n",
    "        print(f\"Max Validation Accuracy: {max_val_accuracy:.3f}\")\n",
    "        print(f\"Min Validation Loss: {min_val_loss:.3f}\")\n",
    "        print()"
   ]
  },
  {
   "cell_type": "code",
   "execution_count": 9,
   "metadata": {
    "id": "6iovDiuLwuPY"
   },
   "outputs": [],
   "source": [
    "# this step was to make a function to display learning curve plots for loss and accuracy,\n",
    "\n",
    "def plot_learning_curves(models, model_names):\n",
    "\n",
    "    colors = ['blue', 'red', 'green', 'orange', 'purple']  # List of colors for each model\n",
    "    plt.figure(figsize=(14, 6))\n",
    "    plt.suptitle(f'Learning Curves for the CNN using {model_names}', fontsize=16)\n",
    "\n",
    "    for i, model in enumerate(models):\n",
    "        history = model.history\n",
    "\n",
    "        loss = history['loss']\n",
    "        val_loss = history['val_loss']\n",
    "        accuracy = history['accuracy']\n",
    "        val_accuracy = history['val_accuracy']\n",
    "        epochs = range(1, len(loss) + 1)\n",
    "        color = colors[i % len(colors)]\n",
    "\n",
    "        # Plot loss\n",
    "        plt.subplot(1, 2, 1)\n",
    "        plt.plot(epochs, loss, label=f'{model_names[i]} - Training Loss')\n",
    "        plt.plot(epochs, val_loss,linestyle='dashed',color = color, label=f'{model_names[i]} - Validation Loss')\n",
    "        plt.xlabel('Epochs')\n",
    "        plt.ylabel('Loss')\n",
    "        plt.title('Training and Validation Loss')\n",
    "        plt.legend()\n",
    "        plt.grid(True)\n",
    "\n",
    "        # Plot accuracy\n",
    "        plt.subplot(1, 2, 2)\n",
    "        plt.plot(epochs, accuracy, label=f'{model_names[i]} - Training Accuracy')\n",
    "        plt.plot(epochs, val_accuracy,linestyle='dashed',color = color, label=f'{model_names[i]} - Validation Accuracy')\n",
    "        plt.xlabel('Epochs')\n",
    "        plt.ylabel('Accuracy')\n",
    "        plt.title('Training and Validation Accuracy')\n",
    "        plt.legend()\n",
    "        plt.grid(True)\n",
    "\n",
    "\n",
    "    plt.tight_layout()\n",
    "    plt.show()"
   ]
  },
  {
   "cell_type": "code",
   "execution_count": 10,
   "metadata": {
    "id": "tM70p9aww13Y"
   },
   "outputs": [],
   "source": [
    "from keras.models import Sequential\n",
    "from keras.layers import Conv2D, MaxPooling2D, Flatten, Dense, BatchNormalization, Activation\n",
    "from keras.optimizers import Nadam\n",
    "from keras.callbacks import EarlyStopping, LearningRateScheduler\n",
    "\n",
    "def build_cnn(filters, optimizer, initial_lr, decay_rate, loss_function):\n",
    "    # set the random state for consistency\n",
    "    tf.random.set_seed(123)\n",
    "    # clear the layer counting each run\n",
    "    tf.keras.backend.clear_session()\n",
    "\n",
    "    # Create the CNN model\n",
    "    model = Sequential()\n",
    "\n",
    "    # Convolutional layers\n",
    "    for i, num_filters in enumerate(filters):\n",
    "        model.add(BatchNormalization())\n",
    "        model.add(Conv2D(num_filters, kernel_size=(5), input_shape=(1, 2000, 3), padding='same'))\n",
    "        model.add(BatchNormalization())\n",
    "        model.add(Activation('relu'))\n",
    "        model.add(MaxPooling2D(pool_size=(1, 8)))\n",
    "\n",
    "    # Flatten layer\n",
    "    model.add(Flatten())\n",
    "\n",
    "    # Output layer\n",
    "    model.add(BatchNormalization())\n",
    "    model.add(Dense(2, activation='softmax'))\n",
    "\n",
    "    # Define the learning rate schedule for exponential decay\n",
    "    def learning_rate_schedule(epoch, lr):\n",
    "        return lr / decay_rate**(epoch)\n",
    "\n",
    "    # Compile the model\n",
    "    optimizer = Nadam(learning_rate=initial_lr)\n",
    "    model.compile(loss=loss_function, optimizer=optimizer, metrics=['accuracy'])\n",
    "\n",
    "    # Define callbacks\n",
    "    callbacks = [\n",
    "        EarlyStopping(monitor='val_accuracy', mode='max', patience=10, restore_best_weights=True),\n",
    "        LearningRateScheduler(lambda epoch: learning_rate_schedule(epoch, initial_lr))\n",
    "    ]\n",
    "\n",
    "    return model, callbacks"
   ]
  },
  {
   "cell_type": "code",
   "execution_count": null,
   "metadata": {
    "colab": {
     "base_uri": "https://localhost:8080/"
    },
    "id": "VkOturh3ybEp",
    "outputId": "54785ae4-a7e3-4f74-a0e2-98bb05e7629d"
   },
   "outputs": [
    {
     "name": "stdout",
     "output_type": "stream",
     "text": [
      "Epoch 1/20\n",
      "30/30 [==============================] - 7s 144ms/step - loss: 2.2080 - accuracy: 0.7277 - val_loss: 1.5793 - val_accuracy: 0.6487 - lr: 0.1000\n",
      "Epoch 2/20\n",
      "30/30 [==============================] - 5s 153ms/step - loss: 0.2411 - accuracy: 0.9134 - val_loss: 0.5526 - val_accuracy: 0.7563 - lr: 0.0333\n",
      "Epoch 3/20\n",
      "30/30 [==============================] - 5s 159ms/step - loss: 0.1343 - accuracy: 0.9504 - val_loss: 0.3350 - val_accuracy: 0.8597 - lr: 0.0111\n",
      "Epoch 4/20\n",
      "30/30 [==============================] - 5s 164ms/step - loss: 0.1139 - accuracy: 0.9630 - val_loss: 0.4156 - val_accuracy: 0.7933 - lr: 0.0037\n",
      "Epoch 5/20\n",
      "30/30 [==============================] - 5s 167ms/step - loss: 0.0959 - accuracy: 0.9723 - val_loss: 0.5263 - val_accuracy: 0.7387 - lr: 0.0012\n",
      "Epoch 6/20\n",
      "30/30 [==============================] - 5s 157ms/step - loss: 0.1073 - accuracy: 0.9664 - val_loss: 0.5782 - val_accuracy: 0.7294 - lr: 4.1152e-04\n",
      "Epoch 7/20\n",
      "30/30 [==============================] - 5s 160ms/step - loss: 0.1005 - accuracy: 0.9639 - val_loss: 0.5656 - val_accuracy: 0.7370 - lr: 1.3717e-04\n",
      "Epoch 8/20\n",
      "30/30 [==============================] - 5s 157ms/step - loss: 0.1024 - accuracy: 0.9706 - val_loss: 0.5069 - val_accuracy: 0.7697 - lr: 4.5725e-05\n",
      "Epoch 9/20\n",
      "30/30 [==============================] - 5s 162ms/step - loss: 0.0933 - accuracy: 0.9689 - val_loss: 0.4343 - val_accuracy: 0.8067 - lr: 1.5242e-05\n",
      "Epoch 10/20\n",
      "30/30 [==============================] - 5s 159ms/step - loss: 0.0941 - accuracy: 0.9681 - val_loss: 0.3640 - val_accuracy: 0.8445 - lr: 5.0805e-06\n",
      "Epoch 11/20\n",
      "30/30 [==============================] - 5s 163ms/step - loss: 0.0983 - accuracy: 0.9672 - val_loss: 0.3077 - val_accuracy: 0.8723 - lr: 1.6935e-06\n",
      "Epoch 12/20\n",
      "30/30 [==============================] - 5s 164ms/step - loss: 0.1036 - accuracy: 0.9639 - val_loss: 0.2640 - val_accuracy: 0.8958 - lr: 5.6450e-07\n",
      "Epoch 13/20\n",
      "30/30 [==============================] - 5s 165ms/step - loss: 0.1015 - accuracy: 0.9681 - val_loss: 0.2326 - val_accuracy: 0.9126 - lr: 1.8817e-07\n",
      "Epoch 14/20\n",
      "30/30 [==============================] - 5s 163ms/step - loss: 0.1116 - accuracy: 0.9622 - val_loss: 0.2133 - val_accuracy: 0.9176 - lr: 6.2723e-08\n",
      "Epoch 15/20\n",
      "30/30 [==============================] - 5s 170ms/step - loss: 0.0986 - accuracy: 0.9655 - val_loss: 0.2004 - val_accuracy: 0.9252 - lr: 2.0908e-08\n",
      "Epoch 16/20\n",
      "30/30 [==============================] - 5s 165ms/step - loss: 0.1001 - accuracy: 0.9689 - val_loss: 0.1914 - val_accuracy: 0.9294 - lr: 6.9692e-09\n",
      "Epoch 17/20\n",
      "30/30 [==============================] - 5s 181ms/step - loss: 0.1055 - accuracy: 0.9639 - val_loss: 0.1856 - val_accuracy: 0.9328 - lr: 2.3231e-09\n",
      "Epoch 18/20\n",
      "30/30 [==============================] - 5s 165ms/step - loss: 0.1012 - accuracy: 0.9664 - val_loss: 0.1816 - val_accuracy: 0.9370 - lr: 7.7435e-10\n",
      "Epoch 19/20\n",
      "30/30 [==============================] - 5s 166ms/step - loss: 0.0980 - accuracy: 0.9706 - val_loss: 0.1792 - val_accuracy: 0.9370 - lr: 2.5812e-10\n",
      "Epoch 20/20\n",
      "30/30 [==============================] - 5s 163ms/step - loss: 0.0977 - accuracy: 0.9664 - val_loss: 0.1779 - val_accuracy: 0.9361 - lr: 8.6039e-11\n"
     ]
    }
   ],
   "source": [
    "import tensorflow as tf\n",
    "\n",
    "# normal input for the build cnn function\n",
    "filters = [32, 64, 128]  # Number of filters in each convolutional layer\n",
    "optimizer = Nadam  # Optimizer\n",
    "initial_lr = 0.10  # Initial learning rate\n",
    "loss_function = 'categorical_crossentropy'  # Loss function\n",
    "\n",
    "# list of decay rates too try\n",
    "decay_rates = [3]\n",
    "models = []\n",
    "max_train_accuracies = []\n",
    "max_val_accuracies = []\n",
    "decay_used = []\n",
    "\n",
    "for rate in decay_rates:\n",
    "    # Create the model with current hyperparameters\n",
    "    model, callbacks = build_cnn(filters, optimizer, initial_lr, decay_rate=rate, loss_function = loss_function)\n",
    "   # fit the model with the training data and validate with the val data\n",
    "    model_lr = model.fit(x_tr_k, y_train, validation_data=(x_val_k, y_val), batch_size=40,\n",
    "                         epochs=20, callbacks=callbacks, verbose = 1)\n",
    "    models.append(model_lr)\n",
    "\n",
    "    # Compile accuracies for plotting with learning rate\n",
    "    max_train_accuracy = max(model_lr.history['accuracy'])\n",
    "    max_val_accuracy = max(model_lr.history['val_accuracy'])\n",
    "    max_train_accuracies.append(max_train_accuracy)\n",
    "    max_val_accuracies.append(max_val_accuracy)\n",
    "    decay_used.append(str(rate))"
   ]
  },
  {
   "cell_type": "code",
   "execution_count": null,
   "metadata": {
    "colab": {
     "base_uri": "https://localhost:8080/",
     "height": 497
    },
    "id": "2pJOVJ9Xcf_3",
    "outputId": "5a20d7c2-093b-49c5-80c5-d051acfc3de8"
   },
   "outputs": [
    {
     "data": {
      "image/png": "[encoded data removed]",
      "text/plain": [
       "<Figure size 1008x432 with 2 Axes>"
      ]
     },
     "metadata": {
      "needs_background": "light"
     },
     "output_type": "display_data"
    },
    {
     "name": "stdout",
     "output_type": "stream",
     "text": [
      "Metrics for Model  cnn:\n",
      "Max Training Accuracy: 0.972\n",
      "Min Training Loss: 0.093\n",
      "Max Validation Accuracy: 0.937\n",
      "Min Validation Loss: 0.178\n",
      "\n"
     ]
    }
   ],
   "source": [
    "models= [model_lr]\n",
    "model_names= [' cnn']\n",
    "plot_learning_curves(models, model_names)\n",
    "display_metrics(models,model_names)"
   ]
  },
  {
   "cell_type": "code",
   "execution_count": 15,
   "metadata": {
    "colab": {
     "base_uri": "https://localhost:8080/"
    },
    "id": "fqe_PQdlp2FJ",
    "outputId": "51bae645-6319-4b2e-d87c-08259fc31c2d"
   },
   "outputs": [
    {
     "name": "stdout",
     "output_type": "stream",
     "text": [
      "25/25 [==============================] - 1s 27ms/step\n"
     ]
    }
   ],
   "source": [
    "# prepare the  X test data\n",
    "\n",
    "x_test_k = x_test.reshape((-1, 1,2000,3))\n",
    "\n",
    "## fit on the untouched test data from the start.\n",
    "\n",
    "Y_pred = model.predict(x_test_k)"
   ]
  },
  {
   "cell_type": "code",
   "execution_count": 16,
   "metadata": {
    "colab": {
     "base_uri": "https://localhost:8080/"
    },
    "id": "6X4wK1dOp33c",
    "outputId": "81e1105d-2b00-4a00-e583-abd2a4e3844d"
   },
   "outputs": [
    {
     "name": "stdout",
     "output_type": "stream",
     "text": [
      "25/25 [==============================] - 1s 24ms/step - loss: 0.1299 - accuracy: 0.9610\n",
      "Test Loss: 0.12992578744888306\n",
      "Test Accuracy: 0.9609571695327759\n"
     ]
    }
   ],
   "source": [
    "# evaluate the model metrics\n",
    "\n",
    "test_loss, test_accuracy = model.evaluate(x_test_k, y_test)\n",
    "print('Test Loss:', test_loss)\n",
    "print('Test Accuracy:',test_accuracy)"
   ]
  },
  {
   "cell_type": "code",
   "execution_count": null,
   "metadata": {},
   "outputs": [],
   "source": [
    "model.save('my_cnn_model.h5')"
   ]
  },
  {
   "cell_type": "code",
   "execution_count": 21,
   "metadata": {},
   "outputs": [
    {
     "data": {
      "image/png": "[encoded data removed]",
      "text/plain": [
       "<Figure size 720x576 with 2 Axes>"
      ]
     },
     "metadata": {
      "needs_background": "light"
     },
     "output_type": "display_data"
    }
   ],
   "source": [
    "import numpy as np\n",
    "import matplotlib.pyplot as plt\n",
    "import seaborn as sns\n",
    "from sklearn.metrics import confusion_matrix\n",
    "\n",
    "# Define the unique classes based on your class labels\n",
    "unique_classes = np.unique(y_train)\n",
    "\n",
    "# Define class names for visualization\n",
    "class_names = ['Sinus', 'Atrial Fibrillation ']\n",
    "\n",
    "# Assuming Y_pred contains predictions from your model\n",
    "# Assuming y_test contains true labels\n",
    "y_pred_labels = np.argmax(Y_pred, axis=1)\n",
    "y_test_labels = np.argmax(y_test, axis=1)\n",
    "\n",
    "# Compute the confusion matrix\n",
    "cm = confusion_matrix(y_test_labels, y_pred_labels)\n",
    "\n",
    "# Plot the confusion matrix using seaborn heatmap\n",
    "plt.figure(figsize=(10, 8))\n",
    "sns.heatmap(cm, annot=True, fmt='d', cmap='viridis',\n",
    "            xticklabels=class_names, yticklabels=class_names)\n",
    "plt.xlabel('Predicted labels')\n",
    "plt.ylabel('True labels')\n",
    "plt.title('Confusion Matrix')\n",
    "plt.show()"
   ]
  },
  {
   "cell_type": "code",
   "execution_count": 12,
   "metadata": {},
   "outputs": [],
   "source": [
    "import tensorflow as tf\n",
    "\n",
    "model = tf.keras.models.load_model('/Users/kris/Library/CloudStorage/OneDrive-Personal/Data science/applications of data science/assessment 3/ECG Data/my_cnn_model.h5')"
   ]
  },
  {
   "cell_type": "code",
   "execution_count": 17,
   "metadata": {},
   "outputs": [
    {
     "name": "stdout",
     "output_type": "stream",
     "text": [
      "25/25 [==============================] - 1s 25ms/step\n"
     ]
    }
   ],
   "source": [
    "from sklearn.metrics import classification_report\n",
    "\n",
    "Y_pred = model.predict(x_test_k)\n",
    "y_pred_labels = np.argmax(Y_pred, axis=1)  # Predicted labels\n",
    "y_test_labels = np.argmax(y_test, axis=1)  # True label"
   ]
  },
  {
   "cell_type": "code",
   "execution_count": 22,
   "metadata": {},
   "outputs": [
    {
     "name": "stdout",
     "output_type": "stream",
     "text": [
      "                      precision    recall  f1-score   support\n",
      "\n",
      "               Sinus       0.98      0.94      0.96       378\n",
      "Atrial Fibrillation        0.95      0.98      0.96       416\n",
      "\n",
      "            accuracy                           0.96       794\n",
      "           macro avg       0.96      0.96      0.96       794\n",
      "        weighted avg       0.96      0.96      0.96       794\n",
      "\n"
     ]
    }
   ],
   "source": [
    "report = classification_report(y_test_labels, y_pred_labels, target_names= class_names)\n",
    "print(report)"
   ]
  },
  {
   "cell_type": "code",
   "execution_count": null,
   "metadata": {},
   "outputs": [
    {
     "data": {
      "image/png": "[encoded data removed]",
      "text/plain": [
       "<Figure size 576x432 with 1 Axes>"
      ]
     },
     "metadata": {
      "needs_background": "light"
     },
     "output_type": "display_data"
    }
   ],
   "source": [
    "from sklearn.metrics import roc_curve, auc\n",
    "import matplotlib.pyplot as plt\n",
    "\n",
    "\n",
    "y_test_labels = np.argmax(y_test, axis=1)  # True labels\n",
    "Y_pred_probabilities = Y_pred[:, 1]  # Probabilities for the AF class\n",
    "\n",
    "# Compute ROC curve and AUC\n",
    "fpr, tpr, thresholds = roc_curve(y_test_labels, Y_pred_probabilities)\n",
    "roc_auc = auc(fpr, tpr)\n",
    "\n",
    "# Plot the ROC Curve\n",
    "plt.figure(figsize=(8, 6))\n",
    "plt.plot(fpr, tpr, color='blue', lw=2, label=f\"ROC Curve (AUC = {roc_auc:.2f})\")\n",
    "plt.plot([0, 1], [0, 1], color='gray', linestyle='--')  # Diagonal line\n",
    "plt.xlabel('False Positive Rate')\n",
    "plt.ylabel('True Positive Rate')\n",
    "plt.title('Receiver Operating Characteristic (ROC) Curve')\n",
    "plt.legend(loc=\"lower right\")\n",
    "plt.grid()\n",
    "plt.show()"
   ]
  }
 ],
 "metadata": {
  "accelerator": "GPU",
  "colab": {
   "provenance": []
  },
  "kernelspec": {
   "display_name": "base",
   "language": "python",
   "name": "python3"
  },
  "language_info": {
   "codemirror_mode": {
    "name": "ipython",
    "version": 3
   },
   "file_extension": ".py",
   "mimetype": "text/x-python",
   "name": "python",
   "nbconvert_exporter": "python",
   "pygments_lexer": "ipython3",
   "version": "3.8.5"
  }
 },
 "nbformat": 4,
 "nbformat_minor": 0
}
